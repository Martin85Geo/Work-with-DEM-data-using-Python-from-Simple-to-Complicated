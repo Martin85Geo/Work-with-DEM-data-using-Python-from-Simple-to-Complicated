{
 "cells": [
  {
   "cell_type": "markdown",
   "metadata": {},
   "source": [
    "# ex10-Visualize DEM in An Interactive Map\n",
    "\n",
    "Generally, a raster layer could easily be overlaid on an interactive map colorfully using colormaps from matplotlib.cm through the class of folium.raster_layers.ImageOverlay, when there are not nodata values. However, when the raster data come with nodata values, the overlaid layer would look like a little bit patchy. Sometimes, the nodata value is set to a very big negative value such as -32767. Although we can replace them with numpy.nan, the overlaid layer would look still weird.\n",
    "\n",
    "This tutorial walks you through how to visualize a DEM data on an interactive map created with the python package of [***folium***](https://python-visualization.github.io/folium/). At the same time, we will deal with the no-data issue using a self-defined function to map DEM values to colors and filter the nodata values.\n",
    "\n",
    "The default coordinate system and projection for web-based basemaps is WGS84 Web Mercator. To overlay data (here DEM) on web-based basemaps, the overlay data needs to be in the WGS84 coordinate system. Refer to previous tutorials to learn how to ***reproject*** a DEM data. \n",
    "\n",
    "- ***folium***\n",
    "\n",
    "folium builds on the data wrangling strengths of the Python ecosystem and the mapping strengths of the leaflet.js library. Manipulate your data in Python, then visualize it in on a Leaflet map via folium."
   ]
  },
  {
   "cell_type": "code",
   "execution_count": 1,
   "metadata": {},
   "outputs": [],
   "source": [
    "%matplotlib inline\n",
    "\n",
    "import numpy as np\n",
    "import xarray as xr\n",
    "import numpy.ma as ma\n",
    "import folium\n",
    "\n",
    "from IPython.display import IFrame\n",
    "import matplotlib.pyplot as plt\n",
    "\n",
    "import warnings\n",
    "warnings.filterwarnings(\"ignore\")"
   ]
  },
  {
   "cell_type": "markdown",
   "metadata": {},
   "source": [
    "## Read and preprocess data\n",
    "\n",
    "The demo data must contain some grids with no-data, which will show how we deal with raster with ***NAN values***.\n",
    "\n",
    "- Our demo data has been reprojected to ***EPSG:4326***.\n",
    "- Set them to np.nan. "
   ]
  },
  {
   "cell_type": "code",
   "execution_count": 2,
   "metadata": {},
   "outputs": [],
   "source": [
    "infile  = \"data/es_dem/pre_DTM_EPSG4326.tif\"\n",
    "da_dem  = xr.open_rasterio(infile).drop('band')[0].rename({'x':'longitude', 'y':'latitude'})\n",
    "nodata  = da_dem.nodatavals[0]\n",
    "da_dem  = da_dem.where(da_dem>nodata, np.nan)\n",
    "arr_dem = da_dem.values"
   ]
  },
  {
   "cell_type": "markdown",
   "metadata": {},
   "source": [
    "***Calucate center and bounds***  - These will be used for folium.Map"
   ]
  },
  {
   "cell_type": "code",
   "execution_count": 3,
   "metadata": {},
   "outputs": [
    {
     "name": "stdout",
     "output_type": "stream",
     "text": [
      "40.064850857156635 -105.3048862373832 40.05578390354402 -105.32837150222727 40.073917810769245 -105.28140097253912\n"
     ]
    }
   ],
   "source": [
    "clat = da_dem.latitude.values.mean()\n",
    "clon = da_dem.longitude.values.mean()\n",
    "\n",
    "mlat = da_dem.latitude.values.min()\n",
    "mlon = da_dem.longitude.values.min()\n",
    "\n",
    "xlat = da_dem.latitude.values.max()\n",
    "xlon = da_dem.longitude.values.max()\n",
    "\n",
    "print(clat, clon, mlat, mlon, xlat, xlon)"
   ]
  },
  {
   "cell_type": "markdown",
   "metadata": {},
   "source": [
    "## Map values to colors\n",
    "\n",
    "*function for mapping values to colors*"
   ]
  },
  {
   "cell_type": "code",
   "execution_count": 4,
   "metadata": {},
   "outputs": [],
   "source": [
    "def colorize(array, cmap='viridis'):\n",
    "    normed_data = (array - array.min()) / (array.max() - array.min())    \n",
    "    cm = plt.cm.get_cmap(cmap)    \n",
    "    return cm(normed_data)  "
   ]
  },
  {
   "cell_type": "markdown",
   "metadata": {},
   "source": [
    "***Tip*** - The key point is that DEM values must be masked. So the grids with no-data would be set totally transprant (i.e., alpha=0)."
   ]
  },
  {
   "cell_type": "code",
   "execution_count": 5,
   "metadata": {},
   "outputs": [],
   "source": [
    "data         = ma.masked_invalid(arr_dem)\n",
    "colored_data = colorize(data, cmap='viridis_r')"
   ]
  },
  {
   "cell_type": "markdown",
   "metadata": {},
   "source": [
    "## Visualize interactively\n",
    "\n",
    "It is a little bit weried that the DEM image could not be displayed in folium directly. Perhaps, it is too big? However, we can save the map to a HTML file and then display it in a IPython.display.IFrame."
   ]
  },
  {
   "cell_type": "code",
   "execution_count": 6,
   "metadata": {},
   "outputs": [
    {
     "data": {
      "text/html": [
       "\n",
       "        <iframe\n",
       "            width=\"900\"\n",
       "            height=\"400\"\n",
       "            src=\"index.html\"\n",
       "            frameborder=\"0\"\n",
       "            allowfullscreen\n",
       "        ></iframe>\n",
       "        "
      ],
      "text/plain": [
       "<IPython.lib.display.IFrame at 0x1d92c96bc88>"
      ]
     },
     "execution_count": 6,
     "metadata": {},
     "output_type": "execute_result"
    }
   ],
   "source": [
    "mapa = folium.Map(location=[clat, clon], \n",
    "                  tiles=\"Stamen Terrain\",\n",
    "                  zoom_start=14) \n",
    "\n",
    "folium.raster_layers.ImageOverlay(colored_data,\n",
    "                                  [[mlat, mlon], [xlat, xlon]],\n",
    "                                  opacity=0.7).add_to(mapa)\n",
    "\n",
    "html_file = 'index.html'\n",
    "mapa.save(html_file)\n",
    "IFrame(src=html_file, width=900, height=400)"
   ]
  },
  {
   "cell_type": "markdown",
   "metadata": {},
   "source": [
    "## References\n",
    "\n",
    "Travis E, Oliphant. A guide to NumPy, USA: Trelgol Publishing, (2006).\n",
    "\n",
    "Stéfan van der Walt, S. Chris Colbert and Gaël Varoquaux. The NumPy Array: A Structure for Efficient Numerical Computation, Computing in Science & Engineering, 13, 22-30 (2011), DOI:10.1109/MCSE.2011.37\n",
    "\n",
    "Fernando Pérez and Brian E. Granger. IPython: A System for Interactive Scientific Computing, Computing in Science & Engineering, 9, 21-29 (2007), DOI:10.1109/MCSE.2007.53\n",
    "\n",
    "John D. Hunter. Matplotlib: A 2D Graphics Environment, Computing in Science & Engineering, 9, 90-95 (2007), DOI:10.1109/MCSE.2007.55\n",
    "\n",
    "https://www.linkedin.com/pulse/overlay-raster-nodata-interactive-map-folium-chonghua-yin/\n",
    "    \n",
    "https://python-visualization.github.io/folium/modules.html#module-folium.raster_layers\n",
    "\n",
    "https://www.earthdatascience.org/courses/earth-analytics-python/lidar-raster-data/interactive-maps/\n",
    "\n",
    "https://github.com/python-visualization/folium/tree/master/examples?1560294699938\n",
    "\n",
    "https://rasterio.readthedocs.io/en/stable/index.html\n",
    "\n",
    "https://www.linkedin.com/pulse/postprocess-swat-simulations-5-fancy-interactive-map-chonghua-yin/?lipi=urn%3Ali%3Apage%3Ad_flagship3_profile_view_base_post_details%3BOD%2F3r0YESPOZwq%2FgVg03sQ%3D%3D\n",
    "\n",
    "http://qingkaikong.blogspot.com/2016/06/using-folium-5-image-overlay-overlay.html"
   ]
  },
  {
   "cell_type": "code",
   "execution_count": null,
   "metadata": {},
   "outputs": [],
   "source": []
  }
 ],
 "metadata": {
  "kernelspec": {
   "display_name": "Python 3",
   "language": "python",
   "name": "python3"
  },
  "language_info": {
   "codemirror_mode": {
    "name": "ipython",
    "version": 3
   },
   "file_extension": ".py",
   "mimetype": "text/x-python",
   "name": "python",
   "nbconvert_exporter": "python",
   "pygments_lexer": "ipython3",
   "version": "3.7.3"
  }
 },
 "nbformat": 4,
 "nbformat_minor": 2
}
